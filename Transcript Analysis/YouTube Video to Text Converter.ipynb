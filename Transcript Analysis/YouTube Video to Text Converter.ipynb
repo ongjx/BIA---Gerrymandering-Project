{
 "cells": [
  {
   "cell_type": "code",
   "execution_count": 1,
   "metadata": {},
   "outputs": [],
   "source": [
    "# YouTube's captions URL. Grab this from the Network tab of your browser's Developer Tools when you're on the desired video.\n",
    "# See the project README.md to see how to do this.\n",
    "url = \"https://www.youtube.com/api/timedtext?v=0Ydp6bR5HXw&asr_langs=it%2Cko%2Cde%2Cfr%2Cja%2Cen%2Cru%2Ces%2Cpt%2Cnl&signature=6D507A2766F082600896EDC6CC9654116EE880C1.097E013FCDA2EE75668475A75D113D102E233256&key=yttt1&xorp=True&xoaf=1&expire=1548249901&sparams=asr_langs%2Ccaps%2Cv%2Cxoaf%2Cxorp%2Cexpire&hl=en-GB&caps=asr&kind=asr&lang=en&fmt=srv3\"\n",
    "\n",
    "# Where the transcribed text will go\n",
    "outfile = \"data/out.txt\""
   ]
  },
  {
   "cell_type": "code",
   "execution_count": 7,
   "metadata": {},
   "outputs": [
    {
     "ename": "ModuleNotFoundError",
     "evalue": "No module named 'transcribe'",
     "output_type": "error",
     "traceback": [
      "\u001b[1;31m---------------------------------------------------------------------------\u001b[0m",
      "\u001b[1;31mModuleNotFoundError\u001b[0m                       Traceback (most recent call last)",
      "\u001b[1;32m<ipython-input-7-522729491998>\u001b[0m in \u001b[0;36m<module>\u001b[1;34m()\u001b[0m\n\u001b[0;32m      1\u001b[0m \u001b[1;32mimport\u001b[0m \u001b[0mos\u001b[0m\u001b[1;33m\u001b[0m\u001b[0m\n\u001b[1;32m----> 2\u001b[1;33m \u001b[1;32mimport\u001b[0m \u001b[0mtranscribe\u001b[0m\u001b[1;33m\u001b[0m\u001b[0m\n\u001b[0m\u001b[0;32m      3\u001b[0m \u001b[1;33m\u001b[0m\u001b[0m\n\u001b[0;32m      4\u001b[0m \u001b[0mfinal_text\u001b[0m \u001b[1;33m=\u001b[0m \u001b[0mtranscribe\u001b[0m\u001b[1;33m.\u001b[0m\u001b[0mget_transcript\u001b[0m\u001b[1;33m(\u001b[0m\u001b[0murl\u001b[0m\u001b[1;33m)\u001b[0m\u001b[1;33m\u001b[0m\u001b[0m\n\u001b[0;32m      5\u001b[0m \u001b[1;33m\u001b[0m\u001b[0m\n",
      "\u001b[1;31mModuleNotFoundError\u001b[0m: No module named 'transcribe'"
     ]
    }
   ],
   "source": [
    "import os\n",
    "import transcribe\n",
    "\n",
    "final_text = transcribe.get_transcript(url)\n",
    "    \n",
    "# make folder\n",
    "if not os.path.exists(\"data\"):\n",
    "    os.makedirs(\"data\")\n",
    "    \n",
    "with open(outfile, 'w') as f:\n",
    "    f.write(final_text.encode('utf-8'))\n",
    "    \n",
    "print (final_text)"
   ]
  },
  {
   "cell_type": "code",
   "execution_count": null,
   "metadata": {},
   "outputs": [],
   "source": []
  }
 ],
 "metadata": {
  "kernelspec": {
   "display_name": "Python 3",
   "language": "python",
   "name": "python3"
  },
  "language_info": {
   "codemirror_mode": {
    "name": "ipython",
    "version": 3
   },
   "file_extension": ".py",
   "mimetype": "text/x-python",
   "name": "python",
   "nbconvert_exporter": "python",
   "pygments_lexer": "ipython3",
   "version": "3.6.5"
  }
 },
 "nbformat": 4,
 "nbformat_minor": 2
}
