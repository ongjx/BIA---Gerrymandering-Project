{
 "cells": [
  {
   "cell_type": "code",
   "execution_count": 4,
   "metadata": {},
   "outputs": [],
   "source": [
    "import requests\n",
    "from bs4 import BeautifulSoup\n",
    "import json\n",
    "import pprint\n",
    "import re\n",
    "\n",
    "def getSRT(link,count):\n",
    "    \n",
    "    res = requests.get('https://downsub.com/?url='+link).text\n",
    "    soup = BeautifulSoup(res,'html.parser')\n",
    "    ext = ''\n",
    "    \n",
    "    for i in range(len(soup.findAll('a'))):\n",
    "        if i == 1:\n",
    "            ext = soup.findAll('a')[i].get('href')[1:]\n",
    "    \n",
    "    base_url = 'https://downsub.com'\n",
    "    url = base_url + ext\n",
    "    out = requests.get(url).text\n",
    "    script = ''\n",
    "    \n",
    "    for i in range(2,len(out.split('\\n')),4):\n",
    "        # print(out.split('\\n')[i])\n",
    "        text = re.sub('<font color=\"#CCCCCC\">','',out.split('\\n')[i])\n",
    "        text = re.sub('<font color=\"#E5E5E5\">','',text)\n",
    "        text = re.sub('</font>','',text)\n",
    "        script += text + \" \"\n",
    "    \n",
    "    f= open(\"transcripts\\Subtitles\"+str(count)+\".txt\",\"w+\")\n",
    "    f.write(script)\n",
    "    f.close()\n"
   ]
  },
  {
   "cell_type": "code",
   "execution_count": 6,
   "metadata": {},
   "outputs": [],
   "source": [
    "count=1\n",
    "with open('List of Youtube Videos.txt', 'r') as my_file:\n",
    "    for line in my_file:\n",
    "        getSRT(line,count)\n",
    "        count+=1"
   ]
  },
  {
   "cell_type": "code",
   "execution_count": null,
   "metadata": {},
   "outputs": [],
   "source": [
    "import nltk \n",
    "import re\n",
    "\n",
    "from nltk.corpus import PlaintextCorpusReader\n",
    "corpus = PlaintextCorpusReader('transcripts', '.+\\.txt', encoding='Latin-1')\n",
    "fids = corpus.fileids()\n",
    "print(fids)"
   ]
  }
 ],
 "metadata": {
  "kernelspec": {
   "display_name": "Python 3",
   "language": "python",
   "name": "python3"
  },
  "language_info": {
   "codemirror_mode": {
    "name": "ipython",
    "version": 3
   },
   "file_extension": ".py",
   "mimetype": "text/x-python",
   "name": "python",
   "nbconvert_exporter": "python",
   "pygments_lexer": "ipython3",
   "version": "3.6.5"
  }
 },
 "nbformat": 4,
 "nbformat_minor": 2
}
