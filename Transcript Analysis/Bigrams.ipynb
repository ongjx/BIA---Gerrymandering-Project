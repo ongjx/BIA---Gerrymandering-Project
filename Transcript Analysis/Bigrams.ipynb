{
 "cells": [
  {
   "cell_type": "code",
   "execution_count": 1,
   "metadata": {},
   "outputs": [],
   "source": [
    "# Importing Packages\n",
    "\n",
    "import nltk #Tokenizing\n",
    "import re #Preprocessing\n",
    "\n",
    "# Importing classes within the packages\n",
    "\n",
    "from nltk.corpus import PlaintextCorpusReader\n",
    "from nltk.corpus import stopwords #Don't consider stopwords in histogram\n",
    "from nltk.tokenize import RegexpTokenizer\n",
    "from nltk.stem.porter import *\n",
    "from nltk.stem import WordNetLemmatizer\n",
    "from nltk import pos_tag\n",
    "from nltk import FreqDist\n",
    "from sklearn.feature_extraction.text import TfidfVectorizer\n",
    "from sklearn.cluster import KMeans\n",
    "from sklearn.metrics import adjusted_rand_score"
   ]
  },
  {
   "cell_type": "code",
   "execution_count": 2,
   "metadata": {},
   "outputs": [
    {
     "name": "stdout",
     "output_type": "stream",
     "text": [
      "['01_02_19.txt', '01_06_18.txt', '01_09_11.txt', '01_10_15.txt', '02_02_11.txt', '03_08_11.txt', '08_07_11.txt', '08_08_11.txt', '11_10_18.txt', '12_09_18.txt', '13_11_15.txt', '14_08_11.txt', '14_11_18.txt', '15_11_18.txt', '16_03_18.txt', '16_05_18.txt', '16_08_11.txt', '16_11_18.txt', '17_02_15.txt', '18_05_11.txt', '19_08_09.txt', '19_08_18.txt', '21_05_11.txt', '21_10_11.txt', '23_08_15.txt', '24_04_18.txt', '24_09_15.txt', '25_01_19.txt', '26_04_18.txt', '26_10_15.txt', '27_04_18.txt', '27_09_15.txt', '28_04_18.txt', '28_09_15.txt', '29_03_15.txt', '29_08_11.txt', '29_09_15.txt', '31_08_11.txt', '31_10_11.txt', '31_10_15.txt', 'Subtitles1.txt', 'Subtitles10.txt', 'Subtitles11.txt', 'Subtitles12.txt', 'Subtitles13.txt', 'Subtitles14.txt', 'Subtitles15.txt', 'Subtitles16.txt', 'Subtitles17.txt', 'Subtitles18.txt', 'Subtitles19.txt', 'Subtitles2.txt', 'Subtitles20.txt', 'Subtitles21.txt', 'Subtitles22.txt', 'Subtitles23.txt', 'Subtitles24.txt', 'Subtitles25.txt', 'Subtitles26.txt', 'Subtitles27.txt', 'Subtitles28.txt', 'Subtitles3.txt', 'Subtitles4.txt', 'Subtitles5.txt', 'Subtitles6.txt', 'Subtitles7.txt', 'Subtitles8.txt', 'Subtitles9.txt']\n"
     ]
    }
   ],
   "source": [
    "# We specify the directory where the transcripts are\n",
    "file_directory = 'transcripts'\n",
    " \n",
    "# We include those filenames ending with '.txt'.\n",
    "from nltk.corpus import PlaintextCorpusReader\n",
    "corpus = PlaintextCorpusReader('transcripts', '.+\\.txt', encoding='Latin-1')\n",
    "fids = corpus.fileids()\n",
    "print(fids)"
   ]
  },
  {
   "cell_type": "code",
   "execution_count": null,
   "metadata": {},
   "outputs": [],
   "source": []
  }
 ],
 "metadata": {
  "kernelspec": {
   "display_name": "Python 3",
   "language": "python",
   "name": "python3"
  },
  "language_info": {
   "codemirror_mode": {
    "name": "ipython",
    "version": 3
   },
   "file_extension": ".py",
   "mimetype": "text/x-python",
   "name": "python",
   "nbconvert_exporter": "python",
   "pygments_lexer": "ipython3",
   "version": "3.6.5"
  }
 },
 "nbformat": 4,
 "nbformat_minor": 2
}
