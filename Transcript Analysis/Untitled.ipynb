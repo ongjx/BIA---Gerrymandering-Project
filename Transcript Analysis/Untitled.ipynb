{
 "cells": [
  {
   "cell_type": "code",
   "execution_count": 1,
   "metadata": {},
   "outputs": [],
   "source": [
    "import requests\n",
    "from bs4 import BeautifulSoup\n",
    "import json\n",
    "import pprint\n",
    "import re\n",
    "\n",
    "def getSRT(link,count):\n",
    "    \n",
    "    res = requests.get('https://downsub.com/?url='+link).text\n",
    "    soup = BeautifulSoup(res,'html.parser')\n",
    "    ext = ''\n",
    "    \n",
    "    for i in range(len(soup.findAll('a'))):\n",
    "        if i == 1:\n",
    "            ext = soup.findAll('a')[i].get('href')[1:]\n",
    "    \n",
    "    base_url = 'https://downsub.com'\n",
    "    url = base_url + ext\n",
    "    out = requests.get(url).text\n",
    "    script = ''\n",
    "    \n",
    "    for i in range(2,len(out.split('\\n')),4):\n",
    "        # print(out.split('\\n')[i])\n",
    "        text = re.sub('<font color=\"#CCCCCC\">','',out.split('\\n')[i])\n",
    "        text = re.sub('<font color=\"#E5E5E5\">','',text)\n",
    "        text = re.sub('</font>','',text)\n",
    "        script += text + \" \"\n",
    "    \n",
    "    print(script)\n"
   ]
  },
  {
   "cell_type": "code",
   "execution_count": 2,
   "metadata": {},
   "outputs": [
    {
     "name": "stdout",
     "output_type": "stream",
     "text": [
      "['01_02_19.txt', '01_06_18.txt', '01_09_11.txt', '01_10_15.txt', '02_02_11.txt', '03_08_11.txt', '08_07_11.txt', '08_08_11.txt', '11_10_18.txt', '12_09_18.txt', '13_11_15.txt', '14_08_11.txt', '14_11_18.txt', '15_11_18.txt', '16_03_18.txt', '16_05_18.txt', '16_08_11.txt', '16_11_18.txt', '17_02_15.txt', '18_05_11.txt', '19_08_09.txt', '19_08_18.txt', '21_05_11.txt', '21_10_11.txt', '23_08_15.txt', '24_04_18.txt', '24_09_15.txt', '25_01_19.txt', '26_04_18.txt', '26_10_15.txt', '27_04_18.txt', '27_09_15.txt', '28_04_18.txt', '28_09_15.txt', '29_03_15.txt', '29_08_11.txt', '29_09_15.txt', '31_08_11.txt', '31_10_11.txt', '31_10_15.txt', 'Subtitles1.txt', 'Subtitles10.txt', 'Subtitles11.txt', 'Subtitles12.txt', 'Subtitles13.txt', 'Subtitles14.txt', 'Subtitles15.txt', 'Subtitles16.txt', 'Subtitles17.txt', 'Subtitles18.txt', 'Subtitles19.txt', 'Subtitles2.txt', 'Subtitles20.txt', 'Subtitles21.txt', 'Subtitles22.txt', 'Subtitles23.txt', 'Subtitles24.txt', 'Subtitles25.txt', 'Subtitles26.txt', 'Subtitles27.txt', 'Subtitles28.txt', 'Subtitles3.txt', 'Subtitles4.txt', 'Subtitles5.txt', 'Subtitles6.txt', 'Subtitles7.txt', 'Subtitles8.txt', 'Subtitles9.txt']\n"
     ]
    }
   ],
   "source": [
    "import nltk \n",
    "import re\n",
    "\n",
    "from nltk.corpus import PlaintextCorpusReader\n",
    "corpus = PlaintextCorpusReader('transcripts', '.+\\.txt', encoding='Latin-1')\n",
    "fids = corpus.fileids()\n",
    "print(fids)"
   ]
  },
  {
   "cell_type": "code",
   "execution_count": null,
   "metadata": {},
   "outputs": [],
   "source": [
    "count=1\n",
    "with open('List of Youtube Videos.txt', 'r') as my_file:\n",
    "    for line in my_file:\n",
    "        getSRT(line,count)\n",
    "        count+=1"
   ]
  }
 ],
 "metadata": {
  "kernelspec": {
   "display_name": "Python 3",
   "language": "python",
   "name": "python3"
  },
  "language_info": {
   "codemirror_mode": {
    "name": "ipython",
    "version": 3
   },
   "file_extension": ".py",
   "mimetype": "text/x-python",
   "name": "python",
   "nbconvert_exporter": "python",
   "pygments_lexer": "ipython3",
   "version": "3.6.5"
  }
 },
 "nbformat": 4,
 "nbformat_minor": 2
}
